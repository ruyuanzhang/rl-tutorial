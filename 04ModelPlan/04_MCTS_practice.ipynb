{
 "cells": [
  {
   "cell_type": "code",
   "execution_count": null,
   "metadata": {},
   "outputs": [],
   "source": [
    "import numpy as np \n",
    "from scipy.special import softmax \n",
    "import time \n",
    "\n",
    "from IPython.display import clear_output\n",
    "%matplotlib inline\n",
    "%config InlineBackend.figure_format='retina'\n",
    "\n",
    "import matplotlib.pyplot as plt \n",
    "import seaborn as sns \n",
    "import networkx as nx \n",
    "\n",
    "import sys \n",
    "sys.path.append(\"..\") \n",
    "from utils.env import frozen_lake\n",
    "from utils.viz import viz \n",
    "viz.get_style()"
   ]
  },
  {
   "cell_type": "code",
   "execution_count": 53,
   "metadata": {},
   "outputs": [
    {
     "data": {
      "image/png": "[encoded data removed]",
      "text/plain": [
       "<Figure size 400x400 with 1 Axes>"
      ]
     },
     "metadata": {
      "image/png": {
       "height": 354,
       "width": 328
      }
     },
     "output_type": "display_data"
    }
   ],
   "source": [
    "# The frozen lake \n",
    "layout = [\n",
    "    \"S.......\",\n",
    "    \"........\",\n",
    "    \"...H....\",\n",
    "    \".H...H..\",\n",
    "    \"...H....\",\n",
    "    \".HH..H..\",\n",
    "    \".H..H...\",\n",
    "    \"...H...G\"\n",
    "]\n",
    "env = frozen_lake(layout, eps=0)\n",
    "env.reset()\n",
    "fig, ax = plt.subplots(1, 1, figsize=(4, 4))\n",
    "env.render(ax)"
   ]
  },
  {
   "cell_type": "code",
   "execution_count": 54,
   "metadata": {},
   "outputs": [
    {
     "data": {
      "text/plain": [
       "array([1., 0., 0., 0., 0., 0., 0., 0., 0., 0., 0., 0., 0., 0., 0., 0., 0.,\n",
       "       0., 0., 0., 0., 0., 0., 0., 0., 0., 0., 0., 0., 0., 0., 0., 0., 0.,\n",
       "       0., 0., 0., 0., 0., 0., 0., 0., 0., 0., 0., 0., 0., 0., 0., 0., 0.,\n",
       "       0., 0., 0., 0., 0., 0., 0., 0., 0., 0., 0., 0., 0.])"
      ]
     },
     "execution_count": 54,
     "metadata": {},
     "output_type": "execute_result"
    }
   ],
   "source": [
    "s, a = 1, 2\n",
    "env.p_s_next(s, a)"
   ]
  },
  {
   "cell_type": "code",
   "execution_count": 56,
   "metadata": {},
   "outputs": [
    {
     "data": {
      "text/plain": [
       "(1, True)"
      ]
     },
     "execution_count": 56,
     "metadata": {},
     "output_type": "execute_result"
    }
   ],
   "source": [
    "s_next = 63\n",
    "r, done = env.r(s_next)\n",
    "r, done "
   ]
  },
  {
   "attachments": {},
   "cell_type": "markdown",
   "metadata": {},
   "source": [
    "## MCTS: basic "
   ]
  },
  {
   "cell_type": "code",
   "execution_count": null,
   "metadata": {},
   "outputs": [],
   "source": [
    "# two types of nodes\n",
    "class Node_s:\n",
    "    type = 'state'\n",
    "\n",
    "    def __init__(self, s, parent=None):\n",
    "        self.s = s\n",
    "        self.n = 1 \n",
    "        self.v = 0\n",
    "        self.name = f's={s}'\n",
    "        self.parent = parent \n",
    "        self.children = []\n",
    "\n",
    "class Node_a:\n",
    "    type = 'action'\n",
    "\n",
    "    def __init__(self, a, parent=None):\n",
    "        self.a = a\n",
    "        self.n = 1\n",
    "        self.v = 0\n",
    "        self.name = f'a={a}'\n",
    "        self.parent = parent \n",
    "        self.children = []"
   ]
  },
  {
   "attachments": {},
   "cell_type": "markdown",
   "metadata": {},
   "source": [
    "## MCTS: select and expand"
   ]
  },
  {
   "cell_type": "code",
   "execution_count": null,
   "metadata": {},
   "outputs": [],
   "source": [
    "class MTCS:\n",
    "\n",
    "    def __init__(self, model, c=1, rng=None):\n",
    "        self.model = model \n",
    "        self.c     = c\n",
    "        self.rng   = rng\n",
    "\n",
    "    def plan(self, s, max_iter=100):\n",
    "        '''Plan with MCTS\n",
    "        '''\n",
    "        root = Node_s(s)\n",
    "        for _ in range(max_iter):\n",
    "            node = self.select_expand(root)\n",
    "            r_sum  = self.rollout(node)\n",
    "            self.backprop(node, r_sum)\n",
    "        return self.uct_policy(root, c=0), root\n",
    "    "
   ]
  },
  {
   "cell_type": "code",
   "execution_count": null,
   "metadata": {},
   "outputs": [],
   "source": [
    "def viz_tree(node, deep=0):\n",
    "    key = node.name\n",
    "    print('    |'*deep+'--'+key)\n",
    "    for child in node.children:\n",
    "        viz_tree(child, deep+1)"
   ]
  },
  {
   "cell_type": "code",
   "execution_count": null,
   "metadata": {},
   "outputs": [],
   "source": [
    "def select_expand(self, s_node):\n",
    "    '''Select & expand \n",
    "\n",
    "    Find an s_node that is not fully expanded, expand\n",
    "    it before moving to the rollout stage. \n",
    "    \n",
    "    if s_node is not the termination node (usually not)\n",
    "    we do:\n",
    "        1. check if the current node is fully expanded\n",
    "        2. if fully expanded, do select\n",
    "        3. if not fully expnaded, do expand \n",
    "        4. use your mental model (self.model) to\n",
    "            sample the next state (s_next), and\n",
    "            the foresee the reward\n",
    "        5. loop until we expand a s_node \n",
    "\n",
    "    hints:\n",
    "        transition_fn: self.model.p_s_next(s,a)\n",
    "        index a list: idx = list.index(element)\n",
    "        use the random generator to do sampling: \n",
    "            self.rng.choice([], p=p)\n",
    "            e.g. self.rng.choice(\n",
    "                list(range(self.model.nS))), p=p) \n",
    "        construct a node: \n",
    "            s_next_node = Node_s(s=s, parent=a_node)\n",
    "            a_node = Node_a(a=a. parent=s_node)\n",
    "    '''\n",
    "    done = False\n",
    "    while s_node.s not in self.model.s_termination:\n",
    "\n",
    "        ## get a a_node \n",
    "        if self.fully_expanded(s_node):\n",
    "            a = self.uct_policy(s_node, self.c)\n",
    "            #### index the node for action a ###\n",
    "            #                                  #\n",
    "            ####################################\n",
    "        else:\n",
    "            a = self.expand(s_node)\n",
    "            ## add node a to s_node's children ###\n",
    "            #                                    #\n",
    "            ######################################\n",
    "            done = True \n",
    "\n",
    "        # sample the next state \n",
    "        ###  sample the s_next using model ###\n",
    "        #                                    #\n",
    "        ######################################\n",
    "        s_next_lst = [child.s for child in a_node.children]\n",
    "        if s_next in s_next_lst:\n",
    "            ######  index the s_next node  ######\n",
    "            #                                   #\n",
    "            #####################################\n",
    "            pass\n",
    "        else:\n",
    "            #### construct the s_next node  #####\n",
    "            #                                   #\n",
    "            #####################################\n",
    "            pass\n",
    "        s_node = s_next_node\n",
    "        if done: break  \n",
    "    return s_node\n",
    "\n",
    "def uct_policy(self, s_node, c=0):\n",
    "    '''Select a node from a fully expanded node\n",
    "    using the UCT policy\n",
    "\n",
    "    The ucb score for each node a is:\n",
    "    score_a = V(a)/N(a) + c*sqrt{2*ln N(s)/N(a)}\n",
    "    where c is the tradeoff parameter between\n",
    "    exploitation (1st term) and explore (2nd term)\n",
    "\n",
    "    Return: a: an action (0-4)  \n",
    "\n",
    "    hints:\n",
    "        N(s) = s_node.n\n",
    "        N(a) = child.n\n",
    "        V(a) - child.v\n",
    "    '''\n",
    "    score = [] \n",
    "    for child in s_node.children:\n",
    "        ########### UCT policy ##########\n",
    "        #                               #\n",
    "        #################################\n",
    "    return self.rng.choice(np.where(score==np.max(score))[0].tolist())   \n",
    "\n",
    "def expand(self, s_node):\n",
    "    ''''expand a child from the current state node\n",
    "    three steps:\n",
    "        1. get the selected action\n",
    "        2. get the unselected action\n",
    "        3. randomly (uniformly) choose an unselected\n",
    "            action\n",
    "\n",
    "    hints:\n",
    "        s_node.children is a list of Node_a object\n",
    "            get the action of Node_a: a = child.a \n",
    "        all_actioins = list(range(self.model.nA))\n",
    "        set(c) = set(a) - set(b) \n",
    "    '''\n",
    "        ### get the selected action ####\n",
    "        #                               #\n",
    "        #################################\n",
    "        ### get the unselected action ####\n",
    "        #                               #\n",
    "        #################################\n",
    "        a = self.rng.choice(a_unslected)\n",
    "        return a \n",
    "\n",
    "def fully_expanded(self, s_node):\n",
    "    return len(s_node.children) == self.model.nA\n",
    "\n",
    "MTCS.select_expand = select_expand\n",
    "MTCS.uct_policy = uct_policy\n",
    "MTCS.expand = expand\n",
    "MTCS.fully_expanded = fully_expanded"
   ]
  },
  {
   "cell_type": "code",
   "execution_count": null,
   "metadata": {},
   "outputs": [],
   "source": [
    "# check your answer \n",
    "def test_select_expand(self, s=0, max_iter=20):\n",
    "    root = Node_s(s)\n",
    "    for _ in range(max_iter):\n",
    "        node = self.select_expand(root)\n",
    "    viz_tree(root)\n",
    "\n",
    "MTCS.test_select_expand = test_select_expand\n",
    "rng = np.random.RandomState(0)\n",
    "MTCS(env, rng=rng).test_select_expand(max_iter=10)"
   ]
  },
  {
   "attachments": {},
   "cell_type": "markdown",
   "metadata": {},
   "source": [
    "##  Rollout\n",
    "\n",
    "sample trajectory $(s, a, r, s')$ until the end using random rollout policy"
   ]
  },
  {
   "cell_type": "code",
   "execution_count": null,
   "metadata": {},
   "outputs": [],
   "source": [
    "def rollout(self, s_node):\n",
    "    s = s_node.s \n",
    "    r_sum = 0 \n",
    "    done = False\n",
    "    while True:\n",
    "        ##  sample a trajectory using random rollout policy #\n",
    "        #                                                   #\n",
    "        #####################################################\n",
    "        r_sum += r\n",
    "        if done: break\n",
    "        s = s_next \n",
    "    return r_sum\n",
    "MTCS.rollout = rollout"
   ]
  },
  {
   "cell_type": "code",
   "execution_count": null,
   "metadata": {},
   "outputs": [],
   "source": [
    "def backprop(self, node, r_sum):\n",
    "    ##  backpropagate the reward to the root ##\n",
    "    #                                         #\n",
    "    ###########################################\n",
    "    pass\n",
    "MTCS.backprop = backprop"
   ]
  },
  {
   "attachments": {},
   "cell_type": "markdown",
   "metadata": {},
   "source": [
    "### Test your MCTS"
   ]
  },
  {
   "cell_type": "code",
   "execution_count": null,
   "metadata": {},
   "outputs": [],
   "source": [
    "def train(env, max_epi=1, seed=1234, max_iter=20):\n",
    "\n",
    "    rng = np.random.RandomState(seed)\n",
    "    agent = MTCS(model=env, c=1, rng=rng)\n",
    "  \n",
    "    for epi in range(max_epi):\n",
    "        s, r, done = env.reset()\n",
    "        t = 0 \n",
    "        G = 0\n",
    "        while True:\n",
    "            # sample At, observe Rt, St+1\n",
    "            a, root = agent.plan(s, max_iter=max_iter)\n",
    "            s_next, r, done = env.step(a)\n",
    "     \n",
    "            t += 1\n",
    "            G += r\n",
    "            s = s_next\n",
    "\n",
    "            fig, ax = plt.subplots(1, 1, figsize=(4, 4))\n",
    "            clear_output(True)\n",
    "            env.render(ax)\n",
    "            time.sleep(.1)\n",
    "            plt.show()\n",
    "            \n",
    "            if done:\n",
    "                break "
   ]
  },
  {
   "cell_type": "code",
   "execution_count": null,
   "metadata": {},
   "outputs": [],
   "source": [
    "env = frozen_lake(layout=layout, eps=0)\n",
    "rng = np.random.RandomState(12434)\n",
    "train(env, seed=224, max_iter=20)"
   ]
  },
  {
   "cell_type": "code",
   "execution_count": null,
   "metadata": {},
   "outputs": [],
   "source": [
    "env = frozen_lake(layout=layout, eps=0)\n",
    "rng = np.random.RandomState(12434)\n",
    "train(env, seed=224, max_iter=200)"
   ]
  },
  {
   "cell_type": "code",
   "execution_count": null,
   "metadata": {},
   "outputs": [],
   "source": [
    "env = frozen_lake(layout=layout, eps=0)\n",
    "rng = np.random.RandomState(12434)\n",
    "train(env, seed=224, max_iter=1000)"
   ]
  }
 ],
 "metadata": {
  "kernelspec": {
   "display_name": "py3",
   "language": "python",
   "name": "python3"
  },
  "language_info": {
   "codemirror_mode": {
    "name": "ipython",
    "version": 3
   },
   "file_extension": ".py",
   "mimetype": "text/x-python",
   "name": "python",
   "nbconvert_exporter": "python",
   "pygments_lexer": "ipython3",
   "version": "3.8.3"
  },
  "orig_nbformat": 4
 },
 "nbformat": 4,
 "nbformat_minor": 2
}
